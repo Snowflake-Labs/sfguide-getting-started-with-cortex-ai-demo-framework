{
 "cells": [
  {
   "cell_type": "markdown",
   "id": "ce110000-1111-2222-3333-ffffff000000",
   "metadata": {
    "name": "cortex_ai_demo_framework_introduction_md"
   },
   "source": [
    "# Cortex AI Demo Framework - Complete Setup\n",
    "\n",
    "This notebook completes the setup after running `setup.sql`. Run each cell sequentially.\n",
    "\n",
    "**⚠️ Prerequisites:**\n",
    "1. Run `setup.sql` first to create databases, roles, warehouses, and stages\n",
    "2. Download all 7 files:\n",
    "   - 01_ai_framework_synthetic_data_generator.py\n",
    "   - 02_ai_framework_structured_tables.py\n",
    "   - 03_ai_framework_sql_to_yaml_converter.py\n",
    "   - 04_ai_framework_snow_demo.py\n",
    "   - 05_ai_framework_snow_viz_yaml_wizard.py\n",
    "   - 06_ai_framework_snow_viz.py\n",
    "   - environment.yml\n",
    "3. Upload all 7 files to the single `CORTEX_AI_FRAMEWORK_APPS` stage as detailed in the quickstart guide"
   ]
  },
  {
   "cell_type": "markdown",
   "id": "ce110000-1111-2222-3333-ffffff000001",
   "metadata": {
    "name": "setup_context_instructions_md"
   },
   "source": [
    "## 1. Setup Context and Verify Infrastructure\n",
    "\n",
    "Set up the database context and verify that the setup.sql script ran successfully."
   ]
  },
  {
   "cell_type": "code",
   "execution_count": null,
   "id": "ce110000-1111-2222-3333-ffffff000002",
   "metadata": {
    "language": "sql",
    "name": "setup_context_and_verification_sql"
   },
   "outputs": [],
   "source": [
    "-- Switch to the Cortex AI Demo role and set context\n",
    "USE ROLE cortex_ai_demo_data_scientist;\n",
    "USE WAREHOUSE cortex_ai_framework_wh;\n",
    "USE DATABASE CORTEX_AI_FRAMEWORK_DB;\n",
    "USE SCHEMA APPS;\n",
    "\n",
    "-- Verify current context\n",
    "SELECT CURRENT_ROLE() AS current_role, \n",
    "       CURRENT_DATABASE() AS current_database,\n",
    "       CURRENT_SCHEMA() AS current_schema,\n",
    "       CURRENT_WAREHOUSE() AS current_warehouse;\n",
    "\n",
    "-- Verify infrastructure was created\n",
    "SHOW SCHEMAS IN DATABASE CORTEX_AI_FRAMEWORK_DB;"
   ]
  },
  {
   "cell_type": "markdown",
   "id": "ce110000-1111-2222-3333-ffffff000003",
   "metadata": {
    "name": "streamlit_applications_creation_md"
   },
   "source": [
    "## 2. Create Streamlit Applications\n",
    "\n",
    "Create stages and deploy all 6 Streamlit applications from the uploaded files."
   ]
  },
  {
   "cell_type": "code",
   "execution_count": null,
   "id": "ce110000-1111-2222-3333-ffffff000004",
   "metadata": {
    "language": "sql",
    "name": "streamlit_applications_deployment_sql"
   },
   "outputs": [],
   "source": [
    "-- Create Synthetic Data Generator (START HERE)\n",
    "CREATE OR REPLACE STREAMLIT CORTEX_AI_FRAMEWORK_DB.APPS.SYNTHETIC_DATA_GENERATOR_START_HERE\n",
    "FROM '@CORTEX_AI_FRAMEWORK_DB.APPS.CORTEX_AI_FRAMEWORK_APPS/'\n",
    "MAIN_FILE = '01_ai_framework_synthetic_data_generator.py'\n",
    "QUERY_WAREHOUSE = 'cortex_ai_framework_synthetic_data_wh'\n",
    "COMMENT = 'Synthetic Data Generator - Start Here for the AI Framework Demo';\n",
    "\n",
    "-- Create Structured Tables\n",
    "CREATE OR REPLACE STREAMLIT CORTEX_AI_FRAMEWORK_DB.APPS.STRUCTURED_TABLES\n",
    "FROM '@CORTEX_AI_FRAMEWORK_DB.APPS.CORTEX_AI_FRAMEWORK_APPS/'\n",
    "MAIN_FILE = '02_ai_framework_structured_tables.py'\n",
    "QUERY_WAREHOUSE = 'cortex_ai_framework_wh'\n",
    "COMMENT = 'Structured Tables application for AI Framework Demo';\n",
    "\n",
    "-- Create SQL to YAML Converter\n",
    "CREATE OR REPLACE STREAMLIT CORTEX_AI_FRAMEWORK_DB.APPS.SQL_TO_YAML_CONVERTER\n",
    "FROM '@CORTEX_AI_FRAMEWORK_DB.APPS.CORTEX_AI_FRAMEWORK_APPS/'\n",
    "MAIN_FILE = '03_ai_framework_sql_to_yaml_converter.py'\n",
    "QUERY_WAREHOUSE = 'cortex_ai_framework_wh'\n",
    "COMMENT = 'SQL to YAML Converter application for AI Framework Demo';\n",
    "\n",
    "-- Create Snow Demo\n",
    "CREATE OR REPLACE STREAMLIT CORTEX_AI_FRAMEWORK_DB.APPS.SNOW_DEMO\n",
    "FROM '@CORTEX_AI_FRAMEWORK_DB.APPS.CORTEX_AI_FRAMEWORK_APPS/'\n",
    "MAIN_FILE = '04_ai_framework_snow_demo.py'\n",
    "QUERY_WAREHOUSE = 'cortex_ai_framework_wh'\n",
    "COMMENT = 'Snow Demo application for AI Framework Demo';\n",
    "\n",
    "-- Create YAML Wizard\n",
    "CREATE OR REPLACE STREAMLIT CORTEX_AI_FRAMEWORK_DB.APPS.YAML_WIZARD\n",
    "FROM '@CORTEX_AI_FRAMEWORK_DB.APPS.CORTEX_AI_FRAMEWORK_APPS/'\n",
    "MAIN_FILE = '05_ai_framework_snow_viz_yaml_wizard.py'\n",
    "QUERY_WAREHOUSE = 'cortex_ai_framework_wh'\n",
    "COMMENT = 'YAML Wizard - Interactive dashboard configuration creator for AI Framework Demo';\n",
    "\n",
    "-- Create Snow Viz\n",
    "CREATE OR REPLACE STREAMLIT CORTEX_AI_FRAMEWORK_DB.APPS.SNOW_VIZ\n",
    "FROM '@CORTEX_AI_FRAMEWORK_DB.APPS.CORTEX_AI_FRAMEWORK_APPS/'\n",
    "MAIN_FILE = '06_ai_framework_snow_viz.py'\n",
    "QUERY_WAREHOUSE = 'cortex_ai_framework_wh'\n",
    "COMMENT = 'Snow Viz - Advanced dashboard renderer for AI Framework Demo';"
   ]
  },
  {
   "cell_type": "markdown",
   "id": "ce110000-1111-2222-3333-ffffff000005",
   "metadata": {
    "name": "application_verification_md"
   },
   "source": [
    "## 3. Verify Applications\n",
    "\n",
    "Verify that all Streamlit applications were created successfully."
   ]
  },
  {
   "cell_type": "code",
   "execution_count": null,
   "id": "ce110000-1111-2222-3333-ffffff000006",
   "metadata": {
    "language": "sql",
    "name": "application_verification_sql"
   },
   "outputs": [],
   "source": [
    "-- Show all Streamlit applications\n",
    "SHOW STREAMLITS IN SCHEMA CORTEX_AI_FRAMEWORK_DB.APPS;"
   ]
  },
  {
   "cell_type": "markdown",
   "id": "ce110000-1111-2222-3333-ffffff000007",
   "metadata": {
    "name": "setup_complete_confirmation_md"
   },
   "source": [
    "## ✅ Setup Complete!\n",
    "\n",
    "**6 Streamlit applications created successfully!**\n",
    "\n",
    "**Next Steps:**\n",
    "1. Go to **Snowsight > Streamlit** \n",
    "2. Start with **Synthetic Data Generator (START HERE)**\n",
    "3. Follow the workflow: Data Generation → Structured Tables → YAML Converter → Demo → YAML Wizard → Dashboard Visualization"
   ]
  }
 ],
 "metadata": {
  "language_info": {
   "name": "python"
  },
  "lastEditStatus": {
   "authorEmail": "joviane.bellegarde@snowflake.com",
   "authorId": "4584884901892",
   "authorName": "JBELLEGARDE",
   "lastEditTime": 1759942047355,
   "notebookId": "5qsswrcliy5d7itzc62t",
   "sessionId": "28eb44f4-9755-4b80-80cd-6b02dd484032"
  }
 },
 "nbformat": 4,
 "nbformat_minor": 2
}
