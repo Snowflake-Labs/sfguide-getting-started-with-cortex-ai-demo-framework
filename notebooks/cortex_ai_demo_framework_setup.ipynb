{
 "cells": [
  {
   "cell_type": "markdown",
   "metadata": {},
   "source": [
    "# Cortex AI Demo Framework - Complete Setup\n",
    "\n",
    "This notebook completes the setup after running `setup.sql`. It will:\n",
    "1. Upload Streamlit applications to their stages\n",
    "2. Create all 5 Streamlit applications\n",
    "3. Verify the complete framework is ready\n",
    "\n",
    "**⚠️ Prerequisites:**\n",
    "1. Run `setup.sql` first to create databases, roles, warehouses, and stages\n",
    "2. Download all 5 Streamlit Python files and `environment.yml`\n",
    "3. Have files ready to upload to stages\n"
   ]
  },
  {
   "cell_type": "markdown",
   "metadata": {},
   "source": [
    "## 1. Setup Context and Verify Infrastructure\n",
    "\n",
    "Set up the database context and verify that the setup.sql script ran successfully.\n"
   ]
  },
  {
   "cell_type": "code",
   "execution_count": null,
   "metadata": {
    "vscode": {
     "languageId": "sql"
    }
   },
   "outputs": [],
   "source": [
    "-- Switch to the Cortex AI Demo role and set context\n",
    "USE ROLE cortex_ai_demo_data_scientist;\n",
    "USE WAREHOUSE cortex_ai_demo_wh;\n",
    "USE DATABASE AI_FRAMEWORK_DB;\n",
    "USE SCHEMA APPS;\n",
    "\n",
    "-- Verify current context\n",
    "SELECT CURRENT_ROLE() AS current_role, \n",
    "       CURRENT_DATABASE() AS current_database,\n",
    "       CURRENT_SCHEMA() AS current_schema,\n",
    "       CURRENT_WAREHOUSE() AS current_warehouse;\n",
    "\n",
    "-- Verify stages were created\n",
    "SHOW STAGES IN SCHEMA AI_FRAMEWORK_DB.APPS;\n"
   ]
  },
  {
   "cell_type": "markdown",
   "metadata": {},
   "source": [
    "## 2. Upload Files to Stages\n",
    "\n",
    "**⚠️ MANUAL STEP REQUIRED:**\n",
    "\n",
    "Upload the 5 Python files and `environment.yml` to their respective stages as detailed in the quickstart guide (Step 3).\n",
    "\n",
    "**After uploading files, run the cell below:**\n"
   ]
  },
  {
   "cell_type": "code",
   "execution_count": null,
   "metadata": {
    "vscode": {
     "languageId": "sql"
    }
   },
   "outputs": [],
   "source": [
    "-- Verify files were uploaded (should see .py and .yml files in each stage)\n",
    "SELECT 'Files uploaded successfully - ready to create applications!' AS status;\n"
   ]
  },
  {
   "cell_type": "markdown",
   "metadata": {},
   "source": [
    "## 3. Create Streamlit Applications\n",
    "\n",
    "Now create all 5 Streamlit applications from the uploaded files.\n"
   ]
  },
  {
   "cell_type": "code",
   "execution_count": null,
   "metadata": {
    "vscode": {
     "languageId": "sql"
    }
   },
   "outputs": [],
   "source": [
    "-- Create Synthetic Data Generator (START HERE)\n",
    "CREATE OR REPLACE STREAMLIT AI_FRAMEWORK_DB.APPS.SYNTHETIC_DATA_GENERATOR_START_HERE\n",
    "ROOT_LOCATION = '@AI_FRAMEWORK_DB.APPS.SYNTHETIC_DATA_GENERATOR_START_HERE'\n",
    "MAIN_FILE = '01_ai_framework_synthetic_data_generator.py'\n",
    "QUERY_WAREHOUSE = 'cortex_ai_synthetic_data_wh'\n",
    "IMPORTS = '@AI_FRAMEWORK_DB.APPS.SYNTHETIC_DATA_GENERATOR_START_HERE/environment.yml'\n",
    "COMMENT = 'Synthetic Data Generator - Start Here for the AI Framework Demo';\n",
    "\n",
    "-- Create Structured Tables\n",
    "CREATE OR REPLACE STREAMLIT AI_FRAMEWORK_DB.APPS.STRUCTURED_TABLES\n",
    "ROOT_LOCATION = '@AI_FRAMEWORK_DB.APPS.STRUCTURED_TABLES'\n",
    "MAIN_FILE = '02_ai_framework_structured_tables.py'\n",
    "QUERY_WAREHOUSE = 'cortex_ai_demo_wh'\n",
    "IMPORTS = '@AI_FRAMEWORK_DB.APPS.STRUCTURED_TABLES/environment.yml'\n",
    "COMMENT = 'Structured Tables application for AI Framework Demo';\n",
    "\n",
    "-- Create SQL to YAML Converter\n",
    "CREATE OR REPLACE STREAMLIT AI_FRAMEWORK_DB.APPS.SQL_TO_YAML_CONVERTER\n",
    "ROOT_LOCATION = '@AI_FRAMEWORK_DB.APPS.SQL_TO_YAML_CONVERTER'\n",
    "MAIN_FILE = '03_ai_framework_sql_to_yaml_converter.py'\n",
    "QUERY_WAREHOUSE = 'cortex_ai_demo_wh'\n",
    "IMPORTS = '@AI_FRAMEWORK_DB.APPS.SQL_TO_YAML_CONVERTER/environment.yml'\n",
    "COMMENT = 'SQL to YAML Converter application for AI Framework Demo';\n",
    "\n",
    "-- Create Snow Demo\n",
    "CREATE OR REPLACE STREAMLIT AI_FRAMEWORK_DB.APPS.SNOW_DEMO\n",
    "ROOT_LOCATION = '@AI_FRAMEWORK_DB.APPS.SNOW_DEMO'\n",
    "MAIN_FILE = '04_ai_framework_snow_demo.py'\n",
    "QUERY_WAREHOUSE = 'cortex_ai_demo_wh'\n",
    "IMPORTS = '@AI_FRAMEWORK_DB.APPS.SNOW_DEMO/environment.yml'\n",
    "COMMENT = 'Snow Demo application for AI Framework Demo';\n",
    "\n",
    "-- Create Snow Viz\n",
    "CREATE OR REPLACE STREAMLIT AI_FRAMEWORK_DB.APPS.SNOW_VIZ\n",
    "ROOT_LOCATION = '@AI_FRAMEWORK_DB.APPS.SNOW_VIZ'\n",
    "MAIN_FILE = '05_ai_framework_snow_viz.py'\n",
    "QUERY_WAREHOUSE = 'cortex_ai_demo_wh'\n",
    "IMPORTS = '@AI_FRAMEWORK_DB.APPS.SNOW_VIZ/environment.yml'\n",
    "COMMENT = 'Snow Viz application for AI Framework Demo';\n"
   ]
  },
  {
   "cell_type": "markdown",
   "metadata": {},
   "source": [
    "## 4. Verify Applications\n",
    "\n",
    "Verify that all Streamlit applications were created successfully.\n"
   ]
  },
  {
   "cell_type": "code",
   "execution_count": null,
   "metadata": {
    "vscode": {
     "languageId": "sql"
    }
   },
   "outputs": [],
   "source": [
    "-- Show all Streamlit applications\n",
    "SHOW STREAMLITS IN SCHEMA AI_FRAMEWORK_DB.APPS;\n",
    "\n",
    "-- Verify successful creation\n",
    "SELECT 'All 5 Cortex AI Demo Framework applications created successfully!' AS status;\n",
    "SELECT 'You can now access the applications through Snowsight > Streamlit' AS next_steps;\n"
   ]
  },
  {
   "cell_type": "markdown",
   "metadata": {},
   "source": [
    "## 🎉 Setup Complete!\n",
    "\n",
    "**5 Streamlit applications created successfully!**\n",
    "\n",
    "**Next Steps:**\n",
    "1. Go to **Snowsight > Streamlit** \n",
    "2. Start with **Synthetic Data Generator (START HERE)**\n",
    "3. Follow the workflow: Data Generation → Structured Tables → YAML Converter → Demo → Visualization\n",
    "\n",
    "**Resources:** `AI_FRAMEWORK_DB`, `cortex_ai_demo_wh`, `cortex_ai_synthetic_data_wh`\n"
   ]
  }
 ],
 "metadata": {
  "language_info": {
   "name": "python"
  }
 },
 "nbformat": 4,
 "nbformat_minor": 2
}
