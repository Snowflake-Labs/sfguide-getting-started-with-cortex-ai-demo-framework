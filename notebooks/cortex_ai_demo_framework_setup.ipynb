{
  "cells": [
    {
      "cell_type": "markdown",
      "metadata": {},
      "source": [
        "# Cortex AI Demo Framework - Complete Setup\n",
        "\n",
        "This notebook sets up the complete Cortex AI Demo Framework with all 5 Streamlit applications. Run each cell sequentially.\n",
        "\n",
        "**⚠️ Prerequisites:**\n",
        "1. Execute `setup.sql` to create database, role, warehouses, and stages\n",
        "2. Download all 5 Streamlit Python files, `environment.yml`, and `ai_framework_semantic_model.yaml`\n",
        "3. Upload files to their respective stages in Snowsight\n",
        "4. Import this notebook and run all cells\n"
      ]
    },
    {
      "cell_type": "markdown",
      "metadata": {},
      "source": [
        "## 1. Setup Context\n",
        "\n",
        "Set up the database context and verify the role and warehouse configuration.\n",
        "\n",
        "**What this does:**\n",
        "- Switches to the Cortex AI Demo role and warehouse\n",
        "- Sets database and schema context\n",
        "- Verifies all stages are created and accessible\n"
      ]
    },
    {
      "cell_type": "code",
      "execution_count": null,
      "metadata": {
        "vscode": {
          "languageId": "sql"
        }
      },
      "outputs": [],
      "source": [
        "-- Switch to Cortex AI Demo role and set context\n",
        "USE ROLE cortex_ai_demo_data_scientist;\n",
        "USE WAREHOUSE cortex_ai_demo_wh;\n",
        "USE DATABASE AI_FRAMEWORK_DB;\n",
        "USE SCHEMA APPS;\n",
        "\n",
        "-- Verify current context\n",
        "SELECT CURRENT_ROLE() AS current_role, \n",
        "       CURRENT_DATABASE() AS current_database,\n",
        "       CURRENT_SCHEMA() AS current_schema,\n",
        "       CURRENT_WAREHOUSE() AS current_warehouse;\n"
      ]
    },
    {
      "cell_type": "markdown",
      "metadata": {},
      "source": [
        "## 2. Verify Stages and Files\n",
        "\n",
        "Check that all required stages exist and files have been uploaded.\n",
        "\n",
        "**What this does:**\n",
        "- Lists all stages created during setup\n",
        "- Verifies that Streamlit files have been uploaded to each stage\n"
      ]
    },
    {
      "cell_type": "code",
      "execution_count": null,
      "metadata": {
        "vscode": {
          "languageId": "sql"
        }
      },
      "outputs": [],
      "source": [
        "-- List all stages\n",
        "SHOW STAGES IN SCHEMA AI_FRAMEWORK_DB.APPS;\n",
        "\n",
        "-- Check files in each stage\n",
        "LIST @AI_FRAMEWORK_DB.APPS.SYNTHETIC_DATA_GENERATOR_START_HERE;\n",
        "LIST @AI_FRAMEWORK_DB.APPS.STRUCTURED_TABLES;\n",
        "LIST @AI_FRAMEWORK_DB.APPS.SQL_TO_YAML_CONVERTER;\n",
        "LIST @AI_FRAMEWORK_DB.APPS.SNOW_DEMO;\n",
        "LIST @AI_FRAMEWORK_DB.APPS.SNOW_VIZ;\n",
        "LIST @AI_FRAMEWORK_DB.CONFIGS.FRAMEWORK_YAML_STAGE;\n"
      ]
    },
    {
      "cell_type": "markdown",
      "metadata": {},
      "source": [
        "## 3. Create Streamlit Applications\n",
        "\n",
        "Create all 5 Streamlit applications from the uploaded files.\n",
        "\n",
        "**What this does:**\n",
        "- Creates the Synthetic Data Generator (START HERE) application\n",
        "- Creates the Structured Tables application\n",
        "- Creates the SQL to YAML Converter application\n",
        "- Creates the Snow Demo application\n",
        "- Creates the Snow Viz application\n"
      ]
    },
    {
      "cell_type": "code",
      "execution_count": null,
      "metadata": {
        "vscode": {
          "languageId": "sql"
        }
      },
      "outputs": [],
      "source": [
        "-- Create Synthetic Data Generator (START HERE)\n",
        "CREATE OR REPLACE STREAMLIT AI_FRAMEWORK_DB.APPS.SYNTHETIC_DATA_GENERATOR_START_HERE\n",
        "ROOT_LOCATION = '@AI_FRAMEWORK_DB.APPS.SYNTHETIC_DATA_GENERATOR_START_HERE'\n",
        "MAIN_FILE = '01_ai_framework_synthetic_data_generator.py'\n",
        "QUERY_WAREHOUSE = 'cortex_ai_synthetic_data_wh'\n",
        "COMMENT = 'Synthetic Data Generator - Start Here for the AI Framework Demo';\n",
        "\n",
        "-- Create Structured Tables\n",
        "CREATE OR REPLACE STREAMLIT AI_FRAMEWORK_DB.APPS.STRUCTURED_TABLES\n",
        "ROOT_LOCATION = '@AI_FRAMEWORK_DB.APPS.STRUCTURED_TABLES'\n",
        "MAIN_FILE = '02_ai_framework_structured_tables.py'\n",
        "QUERY_WAREHOUSE = 'cortex_ai_demo_wh'\n",
        "COMMENT = 'Structured Tables application for AI Framework Demo';\n",
        "\n",
        "-- Create SQL to YAML Converter\n",
        "CREATE OR REPLACE STREAMLIT AI_FRAMEWORK_DB.APPS.SQL_TO_YAML_CONVERTER\n",
        "ROOT_LOCATION = '@AI_FRAMEWORK_DB.APPS.SQL_TO_YAML_CONVERTER'\n",
        "MAIN_FILE = '03_ai_framework_sql_to_yaml_converter.py'\n",
        "QUERY_WAREHOUSE = 'cortex_ai_demo_wh'\n",
        "COMMENT = 'SQL to YAML Converter application for AI Framework Demo';\n",
        "\n",
        "-- Create Snow Demo\n",
        "CREATE OR REPLACE STREAMLIT AI_FRAMEWORK_DB.APPS.SNOW_DEMO\n",
        "ROOT_LOCATION = '@AI_FRAMEWORK_DB.APPS.SNOW_DEMO'\n",
        "MAIN_FILE = '04_ai_framework_snow_demo.py'\n",
        "QUERY_WAREHOUSE = 'cortex_ai_demo_wh'\n",
        "COMMENT = 'Snow Demo application for AI Framework Demo';\n",
        "\n",
        "-- Create Snow Viz\n",
        "CREATE OR REPLACE STREAMLIT AI_FRAMEWORK_DB.APPS.SNOW_VIZ\n",
        "ROOT_LOCATION = '@AI_FRAMEWORK_DB.APPS.SNOW_VIZ'\n",
        "MAIN_FILE = '05_ai_framework_snow_viz.py'\n",
        "QUERY_WAREHOUSE = 'cortex_ai_demo_wh'\n",
        "COMMENT = 'Snow Viz application for AI Framework Demo';\n"
      ]
    },
    {
      "cell_type": "markdown",
      "metadata": {},
      "source": [
        "## 4. Verify Applications\n",
        "\n",
        "Verify that all Streamlit applications have been created successfully.\n",
        "\n",
        "**What this does:**\n",
        "- Lists all created Streamlit applications\n",
        "- Shows their configuration and status\n"
      ]
    },
    {
      "cell_type": "code",
      "execution_count": null,
      "metadata": {
        "vscode": {
          "languageId": "sql"
        }
      },
      "outputs": [],
      "source": [
        "-- Show all Streamlit applications\n",
        "SHOW STREAMLITS IN SCHEMA AI_FRAMEWORK_DB.APPS;\n",
        "\n",
        "-- Verify successful creation\n",
        "SELECT 'All 5 Cortex AI Demo Framework applications created successfully!' AS status;\n",
        "SELECT 'You can now access the applications through Snowsight > Streamlit' AS next_steps;\n"
      ]
    },
    {
      "cell_type": "markdown",
      "metadata": {},
      "source": [
        "## 🎉 Setup Complete!\n",
        "\n",
        "Your Cortex AI Demo Framework is now ready to use. Here's what you have:\n",
        "\n",
        "### **Available Applications:**\n",
        "1. **Synthetic Data Generator (START HERE)** - Generate synthetic data for your demos\n",
        "2. **Structured Tables** - Create and manage structured data tables\n",
        "3. **SQL to YAML Converter** - Convert SQL queries to YAML format\n",
        "4. **Snow Demo** - Interactive demo application\n",
        "5. **Snow Viz** - Data visualization and analytics\n",
        "\n",
        "### **Next Steps:**\n",
        "1. Navigate to **Snowsight > Streamlit** to access your applications\n",
        "2. Start with the **Synthetic Data Generator (START HERE)** application\n",
        "3. Follow the workflow through each application in order\n",
        "4. Explore the AI-powered features using Snowflake Cortex\n",
        "\n",
        "### **Resources:**\n",
        "- All applications use the `cortex_ai_demo_wh` or `cortex_ai_synthetic_data_wh` warehouses\n",
        "- Data is stored in the `AI_FRAMEWORK_DB` database\n",
        "- Configuration files are available in the `FRAMEWORK_YAML_STAGE`\n",
        "\n",
        "**Happy exploring with Snowflake Cortex AI! 🚀**\n"
      ]
    }
  ],
  "metadata": {
    "language_info": {
      "name": "python"
    }
  },
  "nbformat": 4,
  "nbformat_minor": 2
}
