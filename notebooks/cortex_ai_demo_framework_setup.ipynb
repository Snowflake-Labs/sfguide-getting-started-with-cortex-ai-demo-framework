{
 "cells": [
  {
   "cell_type": "markdown",
   "metadata": {
    "name": "cortex_ai_demo_framework_introduction_md"
   },
   "source": [
    "# Cortex AI Demo Framework - Complete Setup\n",
    "\n",
    "This notebook completes the setup after running `setup.sql`. Run each cell sequentially.\n",
    "\n",
    "**⚠️ Prerequisites:**\n",
    "1. Run `setup.sql` first to create databases, roles, warehouses, and stages\n",
    "2. Download all 5 Streamlit Python files\n",
    "3. Upload files to their respective stages as detailed in the quickstart guide"
   ]
  },
  {
   "cell_type": "markdown",
   "metadata": {
    "name": "setup_context_instructions_md"
   },
   "source": [
    "## 1. Setup Context and Verify Infrastructure\n",
    "\n",
    "Set up the database context and verify that the setup.sql script ran successfully."
   ]
  },
  {
   "cell_type": "code",
   "execution_count": null,
   "metadata": {
    "name": "setup_context_and_verification_sql",
    "vscode": {
     "languageId": "sql"
    }
   },
   "outputs": [],
   "source": [
    "-- Switch to the Cortex AI Demo role and set context\n",
    "USE ROLE cortex_ai_demo_data_scientist;\n",
    "USE WAREHOUSE cortex_ai_demo_wh;\n",
    "USE DATABASE AI_FRAMEWORK_DB;\n",
    "USE SCHEMA APPS;\n",
    "\n",
    "-- Verify current context\n",
    "SELECT CURRENT_ROLE() AS current_role, \n",
    "       CURRENT_DATABASE() AS current_database,\n",
    "       CURRENT_SCHEMA() AS current_schema,\n",
    "       CURRENT_WAREHOUSE() AS current_warehouse;\n",
    "\n",
    "-- Verify infrastructure was created\n",
    "SHOW SCHEMAS IN DATABASE AI_FRAMEWORK_DB;"
   ]
  },
  {
   "cell_type": "markdown",
   "metadata": {
    "name": "streamlit_applications_creation_md"
   },
   "source": [
    "## 2. Create Streamlit Applications\n",
    "\n",
    "Create stages and deploy all 5 Streamlit applications from the uploaded files."
   ]
  },
  {
   "cell_type": "code",
   "execution_count": null,
   "metadata": {
    "name": "streamlit_applications_deployment_sql",
    "vscode": {
     "languageId": "sql"
    }
   },
   "outputs": [],
   "source": [
    "-- Create stages for each Streamlit application\n",
    "CREATE OR REPLACE STAGE AI_FRAMEWORK_DB.APPS.SYNTHETIC_DATA_GENERATOR_START_HERE;\n",
    "CREATE OR REPLACE STAGE AI_FRAMEWORK_DB.APPS.STRUCTURED_TABLES;\n",
    "CREATE OR REPLACE STAGE AI_FRAMEWORK_DB.APPS.SQL_TO_YAML_CONVERTER;\n",
    "CREATE OR REPLACE STAGE AI_FRAMEWORK_DB.APPS.SNOW_DEMO;\n",
    "CREATE OR REPLACE STAGE AI_FRAMEWORK_DB.APPS.SNOW_VIZ;\n",
    "\n",
    "-- Create Synthetic Data Generator (START HERE)\n",
    "CREATE OR REPLACE STREAMLIT AI_FRAMEWORK_DB.APPS.SYNTHETIC_DATA_GENERATOR_START_HERE\n",
    "ROOT_LOCATION = '@AI_FRAMEWORK_DB.APPS.SYNTHETIC_DATA_GENERATOR_START_HERE'\n",
    "MAIN_FILE = '01_ai_framework_synthetic_data_generator.py'\n",
    "QUERY_WAREHOUSE = 'cortex_ai_synthetic_data_wh'\n",
    "COMMENT = 'Synthetic Data Generator - Start Here for the AI Framework Demo';\n",
    "\n",
    "-- Create Structured Tables\n",
    "CREATE OR REPLACE STREAMLIT AI_FRAMEWORK_DB.APPS.STRUCTURED_TABLES\n",
    "ROOT_LOCATION = '@AI_FRAMEWORK_DB.APPS.STRUCTURED_TABLES'\n",
    "MAIN_FILE = '02_ai_framework_structured_tables.py'\n",
    "QUERY_WAREHOUSE = 'cortex_ai_demo_wh'\n",
    "COMMENT = 'Structured Tables application for AI Framework Demo';\n",
    "\n",
    "-- Create SQL to YAML Converter\n",
    "CREATE OR REPLACE STREAMLIT AI_FRAMEWORK_DB.APPS.SQL_TO_YAML_CONVERTER\n",
    "ROOT_LOCATION = '@AI_FRAMEWORK_DB.APPS.SQL_TO_YAML_CONVERTER'\n",
    "MAIN_FILE = '03_ai_framework_sql_to_yaml_converter.py'\n",
    "QUERY_WAREHOUSE = 'cortex_ai_demo_wh'\n",
    "COMMENT = 'SQL to YAML Converter application for AI Framework Demo';\n",
    "\n",
    "-- Create Snow Demo\n",
    "CREATE OR REPLACE STREAMLIT AI_FRAMEWORK_DB.APPS.SNOW_DEMO\n",
    "ROOT_LOCATION = '@AI_FRAMEWORK_DB.APPS.SNOW_DEMO'\n",
    "MAIN_FILE = '04_ai_framework_snow_demo.py'\n",
    "QUERY_WAREHOUSE = 'cortex_ai_demo_wh'\n",
    "COMMENT = 'Snow Demo application for AI Framework Demo';\n",
    "\n",
    "-- Create Snow Viz\n",
    "CREATE OR REPLACE STREAMLIT AI_FRAMEWORK_DB.APPS.SNOW_VIZ\n",
    "ROOT_LOCATION = '@AI_FRAMEWORK_DB.APPS.SNOW_VIZ'\n",
    "MAIN_FILE = '05_ai_framework_snow_viz.py'\n",
    "QUERY_WAREHOUSE = 'cortex_ai_demo_wh'\n",
    "COMMENT = 'Snow Viz application for AI Framework Demo';"
   ]
  },
  {
   "cell_type": "markdown",
   "metadata": {
    "name": "application_verification_md"
   },
   "source": [
    "## 3. Verify Applications\n",
    "\n",
    "Verify that all Streamlit applications were created successfully."
   ]
  },
  {
   "cell_type": "code",
   "execution_count": null,
   "metadata": {
    "name": "application_verification_sql",
    "vscode": {
     "languageId": "sql"
    }
   },
   "outputs": [],
   "source": [
    "-- Show all Streamlit applications\n",
    "SHOW STREAMLITS IN SCHEMA AI_FRAMEWORK_DB.APPS;\n",
    "\n",
    "-- Verify successful creation\n",
    "SELECT 'All 5 Cortex AI Demo Framework applications created successfully!' AS status;"
   ]
  },
  {
   "cell_type": "markdown",
   "metadata": {
    "name": "setup_complete_confirmation_md"
   },
   "source": [
    "## ✅ Setup Complete!\n",
    "\n",
    "**5 Streamlit applications created successfully!**\n",
    "\n",
    "**Next Steps:**\n",
    "1. Go to **Snowsight > Streamlit** \n",
    "2. Start with **Synthetic Data Generator (START HERE)**\n",
    "3. Follow the workflow: Data Generation → Structured Tables → YAML Converter → Demo → Visualization"
   ]
  }
 ],
 "metadata": {
  "language_info": {
   "name": "python"
  }
 },
 "nbformat": 4,
 "nbformat_minor": 2
}
